{
 "cells": [
  {
   "cell_type": "code",
   "execution_count": 35,
   "metadata": {},
   "outputs": [
    {
     "data": {
      "text/plain": [
       "submittedmonth\n",
       "3    3\n",
       "Name: submittedmonth, dtype: int64"
      ]
     },
     "execution_count": 35,
     "metadata": {},
     "output_type": "execute_result"
    }
   ],
   "source": [
    "import pandas as pd #1\n",
    "\n",
    "SPOTIFYDATA = pd.read_csv(r'C:\\Users\\student\\Documents\\New folder\\Spotify data.csv') #Read CSV file\n",
    "\n",
    "df = pd.DataFrame(SPOTIFYDATA)\n",
    "\n",
    "df.rename(columns={'year released': 'year_released'}, inplace=True)\n",
    "\n",
    "df['submittedyear'] = pd.DatetimeIndex(df['added']).year\n",
    "\n",
    "df['submittedmonth'] = pd.DatetimeIndex(df['added']).month\n",
    "\n",
    "df['submittedday'] = pd.DatetimeIndex(df['added']).day\n",
    "\n",
    "df1=df[df['submittedmonth']==3]\n",
    "\n",
    "# Number of files submitted for the month of March\n",
    "df1.groupby(['submittedmonth'])['submittedmonth'].count()\n"
   ]
  },
  {
   "cell_type": "code",
   "execution_count": 41,
   "metadata": {},
   "outputs": [
    {
     "data": {
      "text/plain": [
       "year_released\n",
       "1975    354\n",
       "2009    321\n",
       "2010    308\n",
       "2011    337\n",
       "2012    350\n",
       "2013    688\n",
       "2014    323\n",
       "2015    296\n",
       "2016    348\n",
       "2017    343\n",
       "2018    418\n",
       "2019    302\n",
       "2020    240\n",
       "2021    280\n",
       "Name: dur, dtype: int64"
      ]
     },
     "execution_count": 41,
     "metadata": {},
     "output_type": "execute_result"
    }
   ],
   "source": [
    "import pandas as pd #2\n",
    "\n",
    "SPOTIFYDATA = pd.read_csv(r'C:\\Users\\student\\Documents\\New folder\\Spotify data.csv') #Read CSV file\n",
    "\n",
    "df = pd.DataFrame(SPOTIFYDATA)\n",
    "\n",
    "df.rename(columns={'year released': 'year_released'}, inplace=True)\n",
    "\n",
    "# Maximum duration for each year \n",
    "df.groupby(['year_released'])['dur'].max()"
   ]
  },
  {
   "cell_type": "code",
   "execution_count": 43,
   "metadata": {},
   "outputs": [
    {
     "data": {
      "text/plain": [
       "artist\n",
       "2 Chainz               2\n",
       "21 Savage              2\n",
       "3OH!3                  2\n",
       "5 Seconds of Summer    4\n",
       "6ix9ine                2\n",
       "                      ..\n",
       "fun.                   2\n",
       "girl in red            1\n",
       "iann dior              2\n",
       "lovelytheband          1\n",
       "will.i.am              2\n",
       "Name: title, Length: 444, dtype: int64"
      ]
     },
     "execution_count": 43,
     "metadata": {},
     "output_type": "execute_result"
    }
   ],
   "source": [
    "import pandas as pd #3\n",
    "\n",
    "SPOTIFYDATA = pd.read_csv(r'C:\\Users\\student\\Documents\\New folder\\Spotify data.csv') #Read CSV file\n",
    "\n",
    "df = pd.DataFrame(SPOTIFYDATA)\n",
    "\n",
    "df.rename(columns={'year released': 'year_released'}, inplace=True)\n",
    "\n",
    "df['year'] = pd.DatetimeIndex(df['added']).year\n",
    "\n",
    "\n",
    "#Number of songs released for each artist for all years.\n",
    "df.groupby(['artist'])['title'].count()\n"
   ]
  },
  {
   "cell_type": "code",
   "execution_count": 44,
   "metadata": {},
   "outputs": [
    {
     "data": {
      "text/plain": [
       "year_released\n",
       "2010    94\n",
       "Name: artist, dtype: int64"
      ]
     },
     "execution_count": 44,
     "metadata": {},
     "output_type": "execute_result"
    }
   ],
   "source": [
    "import pandas as pd #4\n",
    "\n",
    "SPOTIFYDATA = pd.read_csv(r'C:\\Users\\student\\Documents\\New folder\\Spotify data.csv') #Read CSV file\n",
    "\n",
    "df = pd.DataFrame(SPOTIFYDATA)\n",
    "\n",
    "df.rename(columns={'year released': 'year_released'}, inplace=True)\n",
    "\n",
    "df1=df[df['year_released']==2010]\n",
    "\n",
    "#Number of songs released for each artist in 2010.\n",
    "df1.groupby(['year_released'])['artist'].count()\n"
   ]
  },
  {
   "cell_type": "code",
   "execution_count": 45,
   "metadata": {},
   "outputs": [
    {
     "data": {
      "text/plain": [
       "year_released  top genre    \n",
       "1975           classic rock      1\n",
       "2009           art pop           3\n",
       "               barbadian pop     2\n",
       "               big room          2\n",
       "               dance pop        10\n",
       "                                ..\n",
       "2020           boy band          1\n",
       "               dance pop         2\n",
       "2021           alt z             1\n",
       "               art pop           1\n",
       "               grime             1\n",
       "Name: title, Length: 336, dtype: int64"
      ]
     },
     "execution_count": 45,
     "metadata": {},
     "output_type": "execute_result"
    }
   ],
   "source": [
    "import pandas as pd #5\n",
    "\n",
    "SPOTIFYDATA = pd.read_csv(r'C:\\Users\\student\\Documents\\New folder\\Spotify data.csv') #Read CSV file\n",
    "\n",
    "df = pd.DataFrame(SPOTIFYDATA)\n",
    "\n",
    "df.rename(columns={'year released': 'year_released'}, inplace=True)\n",
    "\n",
    "df['year'] = pd.DatetimeIndex(df['added']).year\n",
    "\n",
    "# Number of songs released for each top genre in each year released. \n",
    "df.groupby(['year_released', 'top genre'])['title'].count()"
   ]
  }
 ],
 "metadata": {
  "kernelspec": {
   "display_name": "Python 3",
   "language": "python",
   "name": "python3"
  },
  "language_info": {
   "codemirror_mode": {
    "name": "ipython",
    "version": 3
   },
   "file_extension": ".py",
   "mimetype": "text/x-python",
   "name": "python",
   "nbconvert_exporter": "python",
   "pygments_lexer": "ipython3",
   "version": "3.10.0"
  },
  "orig_nbformat": 4
 },
 "nbformat": 4,
 "nbformat_minor": 2
}
